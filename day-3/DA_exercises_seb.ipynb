{
 "cells": [
  {
   "cell_type": "markdown",
   "metadata": {},
   "source": [
    "Linear Model\n"
   ]
  },
  {
   "cell_type": "markdown",
   "metadata": {},
   "source": [
    "\\begin{equation}\n",
    "z_n=0.5z_{n-1}+\\xi_{n-1}\n",
    "\\end{equation}\n",
    "with\n",
    "$\\xi_{n-1}\\sim N(0,B)$ and $z_{0}\\sim N(0,0.4)$\n",
    "\n",
    "Observations\n",
    "\\begin{equation}\n",
    "y_n=z_n+\\eta_n\n",
    "\\end{equation}\n",
    "$\\eta_{n-1}\\sim N(0,R)$\n",
    "\n",
    "Kalman filter\n",
    "\n",
    "Forecast formulas:\n",
    "\\begin{align}\n",
    "\\hat{m}_{n+1}&=Am_n\\\\\n",
    "\\hat{C}_{n+1}&=AC_nA^{\\top}+B\n",
    "\\end{align}\n",
    "\n",
    "\n",
    "Analysis formulas\n",
    "\\begin{align}\n",
    "m_{n+1}&=\\hat{m}_{n+1}-K_{n+1}(H\\hat{m}_{n+1}-y_{n+1})\\\\\n",
    "C_{n+1}&=\\hat{C}_{n+1}-K_{n+1}H\\hat{C}_{n+1}\n",
    "\\end{align}\n",
    "\n",
    "with Kalman gain\n",
    "\\begin{equation}\n",
    "K_{n+1}=\\hat{C}_{n+1}H^{\\top}(R+H\\hat{C}_{n+1}H^{\\top})^{-1}\n",
    "\\end{equation}\n",
    "\n",
    "Exercise: Please implement the Kalman filter for the example above\n"
   ]
  },
  {
   "cell_type": "code",
   "execution_count": null,
   "metadata": {
    "collapsed": true
   },
   "outputs": [],
   "source": []
  },
  {
   "cell_type": "code",
   "execution_count": null,
   "metadata": {
    "collapsed": true
   },
   "outputs": [],
   "source": []
  },
  {
   "cell_type": "code",
   "execution_count": null,
   "metadata": {
    "collapsed": true
   },
   "outputs": [],
   "source": []
  },
  {
   "cell_type": "markdown",
   "metadata": {},
   "source": [
    "\n"
   ]
  },
  {
   "cell_type": "markdown",
   "metadata": {},
   "source": [
    "Lorenz equations\n"
   ]
  },
  {
   "cell_type": "markdown",
   "metadata": {
    "collapsed": true
   },
   "source": [
    "\\begin{align}\n",
    "\\dot{x}&=\\sigma(y-x)\\\\\n",
    "\\dot{y}&=x(\\rho-z)-y\\\\\n",
    "\\dot{z}&=xy-\\beta z\n",
    "\\end{align}\n",
    "\n",
    "Ensemble Kalman Filter\n",
    "\\begin{equation}\n",
    "z^i_{n+1}=\\hat{z}^i_{n+1}-K_{n+1}(H\\hat{z}^i_{n+1}-\\tilde{y}^i_{n+1})\n",
    "\\end{equation}\n",
    "\n",
    "\\begin{align}\n",
    "m_{n}&\\approx\\frac{1}{M}\\sum^M_{i=1}z^i_{n}\\\\\n",
    "C_{n}&\\approx\\frac{1}{M}\\sum^M_{i=1}(z^i_{n}-m_{n})(z^i_{n}-m_{n})^{\\top}\n",
    "\\end{align}\n",
    "\n",
    "Exercise: Please implement the Ensemble Kalman filter for the Lorenz equation\n",
    "\n"
   ]
  },
  {
   "cell_type": "code",
   "execution_count": null,
   "metadata": {
    "collapsed": true
   },
   "outputs": [],
   "source": []
  },
  {
   "cell_type": "code",
   "execution_count": null,
   "metadata": {
    "collapsed": true
   },
   "outputs": [],
   "source": []
  },
  {
   "cell_type": "markdown",
   "metadata": {},
   "source": [
    "Particle filter\n",
    "\n",
    "\n",
    "Exercise: Please implement the Particle filter with resampling for the Lorenz equation\n",
    "\n",
    "\n"
   ]
  },
  {
   "cell_type": "code",
   "execution_count": null,
   "metadata": {
    "collapsed": true
   },
   "outputs": [],
   "source": []
  }
 ],
 "metadata": {
  "kernelspec": {
   "display_name": "Python 3",
   "language": "python",
   "name": "python3"
  },
  "language_info": {
   "codemirror_mode": {
    "name": "ipython",
    "version": 3
   },
   "file_extension": ".py",
   "mimetype": "text/x-python",
   "name": "python",
   "nbconvert_exporter": "python",
   "pygments_lexer": "ipython3",
   "version": "3.6.2"
  }
 },
 "nbformat": 4,
 "nbformat_minor": 2
}
