{
 "cells": [
  {
   "cell_type": "markdown",
   "metadata": {},
   "source": [
    "# Precision and Error\n",
    "\n",
    "This document should show you that there is some error involved, when working with floating point numbers."
   ]
  },
  {
   "cell_type": "code",
   "execution_count": 7,
   "metadata": {},
   "outputs": [
    {
     "name": "stdout",
     "output_type": "stream",
     "text": [
      "1.1\n",
      "1.01\n",
      "1.001\n",
      "1.0001\n",
      "1.00001\n",
      "1.000001\n",
      "1.0000001\n",
      "1.00000001\n",
      "1.000000001\n",
      "1.0000000001\n",
      "1.00000000001\n",
      "1.000000000001\n",
      "1.0000000000001\n",
      "1.00000000000001\n",
      "1.000000000000001\n",
      "1.0\n",
      "1.0\n",
      "1.0\n",
      "1.0\n",
      "1.0\n",
      "1.0\n",
      "1.0\n",
      "1.0\n",
      "1.0\n",
      "1.0\n",
      "1.0\n",
      "1.0\n",
      "1.0\n",
      "1.0\n"
     ]
    }
   ],
   "source": [
    "for i in range(1, 30):\n",
    "    print(1 + 10 ** -i)"
   ]
  },
  {
   "cell_type": "markdown",
   "metadata": {},
   "source": [
    "Use the decimal module if you need high precision"
   ]
  },
  {
   "cell_type": "code",
   "execution_count": 13,
   "metadata": {
    "collapsed": true
   },
   "outputs": [],
   "source": [
    "from decimal import *\n",
    "getcontext().prec = 27"
   ]
  },
  {
   "cell_type": "code",
   "execution_count": 14,
   "metadata": {},
   "outputs": [
    {
     "name": "stdout",
     "output_type": "stream",
     "text": [
      "1.1\n",
      "1.01\n",
      "1.001\n",
      "1.0001\n",
      "1.00001\n",
      "1.000001\n",
      "1.0000001\n",
      "1.00000001\n",
      "1.000000001\n",
      "1.0000000001\n",
      "1.00000000001\n",
      "1.000000000001\n",
      "1.0000000000001\n",
      "1.00000000000001\n",
      "1.000000000000001\n",
      "1.0000000000000001\n",
      "1.00000000000000001\n",
      "1.000000000000000001\n",
      "1.0000000000000000001\n",
      "1.00000000000000000001\n",
      "1.000000000000000000001\n",
      "1.0000000000000000000001\n",
      "1.00000000000000000000001\n",
      "1.000000000000000000000001\n",
      "1.0000000000000000000000001\n",
      "1.00000000000000000000000001\n",
      "1.00000000000000000000000000\n",
      "1.00000000000000000000000000\n",
      "1.00000000000000000000000000\n"
     ]
    }
   ],
   "source": [
    "for i in range(1, 30):\n",
    "    print(Decimal(1) + Decimal(10) ** -i)"
   ]
  }
 ],
 "metadata": {
  "kernelspec": {
   "display_name": "Python 3",
   "language": "python",
   "name": "python3"
  },
  "language_info": {
   "codemirror_mode": {
    "name": "ipython",
    "version": 3
   },
   "file_extension": ".py",
   "mimetype": "text/x-python",
   "name": "python",
   "nbconvert_exporter": "python",
   "pygments_lexer": "ipython3",
   "version": "3.6.2"
  }
 },
 "nbformat": 4,
 "nbformat_minor": 2
}
